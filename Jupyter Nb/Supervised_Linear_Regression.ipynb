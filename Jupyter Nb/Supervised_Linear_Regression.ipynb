{
  "nbformat": 4,
  "nbformat_minor": 0,
  "metadata": {
    "colab": {
      "provenance": []
    },
    "kernelspec": {
      "name": "python3",
      "display_name": "Python 3"
    },
    "accelerator": "GPU"
  },
  "cells": [
    {
      "cell_type": "markdown",
      "metadata": {
        "id": "o-VQ0OnEsSaJ"
      },
      "source": [
        "<img src='https://drive.google.com/uc?id=1tqYIvII8lJ_FnqE6ugS21n4s93kMwTLy' />"
      ]
    },
    {
      "cell_type": "markdown",
      "metadata": {
        "id": "G2BFikDYsTei"
      },
      "source": [
        "## Machine Learning\n",
        "## School of Computing and Engineering, University of West London\n",
        "## Massoud Zolgharni"
      ]
    },
    {
      "cell_type": "markdown",
      "metadata": {
        "id": "EOPZ7glosW1O"
      },
      "source": [
        "# Linear Regression"
      ]
    },
    {
      "cell_type": "markdown",
      "metadata": {
        "id": "_3-mgbeDstDs"
      },
      "source": [
        "Here, we're using a dataset with two columns containing the number of hours studied and the test scores students achieved, respectively. Our goal is to build a model which will learn on this dataset and will be able to predict the test score for a given number of study hours."
      ]
    },
    {
      "cell_type": "markdown",
      "metadata": {
        "id": "SeYEMvj9srTS"
      },
      "source": [
        "First, let us import all the libraries and classes we need:"
      ]
    },
    {
      "cell_type": "code",
      "metadata": {
        "id": "OU584PvQU_N3"
      },
      "source": [
        "import numpy as np\n",
        "import matplotlib.pyplot as plt\n",
        "from sklearn.linear_model import LinearRegression"
      ],
      "execution_count": null,
      "outputs": []
    },
    {
      "cell_type": "markdown",
      "metadata": {
        "id": "O3IEwB75sxeb"
      },
      "source": [
        "Download **Regression_data.csv** from Blackboard. Edit the **FolderName** to contain the correct address."
      ]
    },
    {
      "cell_type": "code",
      "metadata": {
        "colab": {
          "base_uri": "https://localhost:8080/"
        },
        "id": "nBiGLZ1Kud6S",
        "outputId": "62e53d41-e86b-409c-fd34-df391dda3ebf"
      },
      "source": [
        "from google.colab import drive\n",
        "drive.mount('/content/gdrive')\n",
        "FolderName = '/content/gdrive/My Drive/Colab Notebooks/UWL/ML_L6/'\n",
        "#import sys\n",
        "#sys.path.append('/content/gdrive/My Drive/Colab Notebooks')\n",
        "#%cd /content/gdrive/My Drive/Colab Notebooks\n",
        "#!ls"
      ],
      "execution_count": null,
      "outputs": [
        {
          "output_type": "stream",
          "text": [
            "Drive already mounted at /content/gdrive; to attempt to forcibly remount, call drive.mount(\"/content/gdrive\", force_remount=True).\n"
          ],
          "name": "stdout"
        }
      ]
    },
    {
      "cell_type": "markdown",
      "metadata": {
        "id": "WZPxf0tCuZoK"
      },
      "source": [
        " After this, we import our dataset."
      ]
    },
    {
      "cell_type": "code",
      "metadata": {
        "id": "Kl8oT9fDs5K6"
      },
      "source": [
        "points = np.genfromtxt(FolderName+'Regression_data.csv', delimiter=',')"
      ],
      "execution_count": null,
      "outputs": []
    },
    {
      "cell_type": "markdown",
      "metadata": {
        "id": "2raODORGs3sz"
      },
      "source": [
        "We then separate the features and the dependent variable into variables x and y respectively."
      ]
    },
    {
      "cell_type": "code",
      "metadata": {
        "id": "U19N78aiVCzd"
      },
      "source": [
        "x = np.array(points[:,0])\n",
        "y = np.array(points[:,1])\n",
        "\n",
        "x = x.reshape(-1, 1)\n",
        "y = y.reshape(-1, 1)"
      ],
      "execution_count": null,
      "outputs": []
    },
    {
      "cell_type": "markdown",
      "metadata": {
        "id": "vrJkrjG6tIRG"
      },
      "source": [
        "Plot the dataset"
      ]
    },
    {
      "cell_type": "code",
      "metadata": {
        "id": "r4rHng0-VEsl",
        "colab": {
          "base_uri": "https://localhost:8080/",
          "height": 295
        },
        "outputId": "9e35eba8-c072-4016-d747-4eed62c42238"
      },
      "source": [
        "plt.scatter(x,y)\n",
        "plt.xlabel('Hours of study')\n",
        "plt.ylabel('Test scores')\n",
        "plt.title('Dataset')\n",
        "plt.show()"
      ],
      "execution_count": null,
      "outputs": [
        {
          "output_type": "display_data",
          "data": {
            "image/png": "[encoded data removed]",
            "text/plain": [
              "<Figure size 432x288 with 1 Axes>"
            ]
          },
          "metadata": {
            "tags": [],
            "needs_background": "light"
          }
        }
      ]
    },
    {
      "cell_type": "markdown",
      "metadata": {
        "id": "4bSh_Secu612"
      },
      "source": [
        "The next step for us is to simply create a linear regression object, fit it to our training set, and start predicting.\n",
        "\n",
        "Let us now begin with creating our **linear regression** object. Thanks to libraries such as **SciKit**, we do not really have to worry about the math behind all these algorithms. These libraries make lives easier by just exposing APIs to us so that we can call those APIs and get our results. We can tune the models, of course. But it is always better to have the knowledge of how a model works internally, so that if required, you can tune it better for your requirements.\n",
        "\n",
        "With that out of the day, let us create our object:"
      ]
    },
    {
      "cell_type": "code",
      "metadata": {
        "id": "kSI2sSEBvT-j"
      },
      "source": [
        "# Creating a LinearRegression object\n",
        "linearRegressor = LinearRegression()"
      ],
      "execution_count": null,
      "outputs": []
    },
    {
      "cell_type": "markdown",
      "metadata": {
        "id": "06it0DjwvSBz"
      },
      "source": [
        "And that is pretty much how you create a linear regression model using SciKit. Next, we have to fit this model to our data, in other words, we have to make it **learn** using our training data. For that, it is just one other line of code:"
      ]
    },
    {
      "cell_type": "code",
      "metadata": {
        "colab": {
          "base_uri": "https://localhost:8080/"
        },
        "id": "nvgjZ_1OvWMB",
        "outputId": "0b69fdf9-beae-4377-becd-2a77a45337f2"
      },
      "source": [
        "# Fitting it on our dataset.\n",
        "linearRegressor.fit(x, y)"
      ],
      "execution_count": null,
      "outputs": [
        {
          "output_type": "execute_result",
          "data": {
            "text/plain": [
              "LinearRegression(copy_X=True, fit_intercept=True, n_jobs=None, normalize=False)"
            ]
          },
          "metadata": {
            "tags": []
          },
          "execution_count": 76
        }
      ]
    },
    {
      "cell_type": "markdown",
      "metadata": {
        "id": "OZhsWMXVw150"
      },
      "source": [
        "You can also extract the optimised parameters from the model:"
      ]
    },
    {
      "cell_type": "code",
      "metadata": {
        "id": "56_mZGRxMLIY",
        "colab": {
          "base_uri": "https://localhost:8080/"
        },
        "outputId": "ad33c83a-45e6-42f7-e2d7-c5a9954639c6"
      },
      "source": [
        "print('Line equation: y = mx + b')\n",
        "print('Optimized m:', linearRegressor.coef_)\n",
        "print('Optimized b:', linearRegressor.intercept_)"
      ],
      "execution_count": null,
      "outputs": [
        {
          "output_type": "stream",
          "text": [
            "Line equation: y = mx + b\n",
            "Optimized m: [[1.32243102]]\n",
            "Optimized b: [7.99102098]\n"
          ],
          "name": "stdout"
        }
      ]
    },
    {
      "cell_type": "markdown",
      "metadata": {
        "id": "PqUj38LFvpS2"
      },
      "source": [
        "Now, your model is trained with the training set you created. You can now start testing the model with the dataset you have. For that, you add one more line to your code:"
      ]
    },
    {
      "cell_type": "code",
      "metadata": {
        "id": "rBx-AmD-v0S6"
      },
      "source": [
        "# Predicting the test set results\n",
        "yPrediction = linearRegressor.predict(x)"
      ],
      "execution_count": null,
      "outputs": []
    },
    {
      "cell_type": "markdown",
      "metadata": {
        "id": "_2X-8ylCvyjX"
      },
      "source": [
        "That is pretty much it. Your linear regression model is ready! You can now celebrate."
      ]
    },
    {
      "cell_type": "markdown",
      "metadata": {
        "id": "wT1c2HHSv4ow"
      },
      "source": [
        "The next step is to see how well your prediction is working. For this, we will first plot the actual values from our dataset against the predicted values for the training set. This will tell us how accurate our model is. We will plot the actual values (from the dataset) in red, and our model’s predictions in blue. This way, we’ll be able to easily differentiate the two:"
      ]
    },
    {
      "cell_type": "code",
      "metadata": {
        "id": "NnQYvyxAVIiH",
        "colab": {
          "base_uri": "https://localhost:8080/",
          "height": 295
        },
        "outputId": "ef758914-201c-4cf0-bc89-8803c725d073"
      },
      "source": [
        "# Visualising the training set results\n",
        "plt.scatter(x, y, color = 'red')\n",
        "plt.plot(x, yPrediction, color = 'blue')\n",
        "plt.title('Test scores vs Hours of study')\n",
        "plt.xlabel('Hours of study')\n",
        "plt.ylabel('Test scores')\n",
        "plt.show()"
      ],
      "execution_count": null,
      "outputs": [
        {
          "output_type": "display_data",
          "data": {
            "image/png": "[encoded data removed]",
            "text/plain": [
              "<Figure size 432x288 with 1 Axes>"
            ]
          },
          "metadata": {
            "tags": [],
            "needs_background": "light"
          }
        }
      ]
    },
    {
      "cell_type": "markdown",
      "metadata": {
        "id": "dUHcUGILzLb7"
      },
      "source": [
        "We can do prediction at a particular value.\n",
        "\n",
        "For instance: x_new = 5"
      ]
    },
    {
      "cell_type": "code",
      "metadata": {
        "id": "gSF6Zec0syV-",
        "colab": {
          "base_uri": "https://localhost:8080/"
        },
        "outputId": "7841f862-9668-46fa-d244-0158e02b7440"
      },
      "source": [
        "x_new = np.array([5])\n",
        "x_new = x_new.reshape(-1, 1)\n",
        "yPrediction = linearRegressor.predict(x_new)\n",
        "print('Prdecited value for this x:', yPrediction)"
      ],
      "execution_count": null,
      "outputs": [
        {
          "output_type": "stream",
          "text": [
            "Prdecited value for this x: [[14.6031761]]\n"
          ],
          "name": "stdout"
        }
      ]
    }
  ]
}